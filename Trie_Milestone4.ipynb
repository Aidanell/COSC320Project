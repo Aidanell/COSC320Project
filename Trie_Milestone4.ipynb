{
 "cells": [
  {
   "cell_type": "markdown",
   "id": "18b2657e-6019-4e30-bb14-6cdfa77132bb",
   "metadata": {},
   "source": [
    "## TrieNode Class and Method"
   ]
  },
  {
   "cell_type": "code",
   "execution_count": 1,
   "id": "0a5a6a11-fad2-418e-98fc-9e91e4417c67",
   "metadata": {},
   "outputs": [],
   "source": [
    "#Code revamped from https://towardsdatascience.com/implementing-a-trie-data-structure-in-python-in-less-than-100-lines-of-code-a877ea23c1a1\n",
    "#to support storing strings at a node where a word can be formed from the root to the node\n",
    "\n",
    "from typing import Tuple\n",
    "\n",
    "class TrieNode(object):\n",
    "    \"\"\"\n",
    "    Our trie node implementation. Very basic. but does the job\n",
    "    \"\"\"\n",
    "    \n",
    "    def __init__(self, char: str, fullWord = None):\n",
    "        self.char = char\n",
    "        self.children = []\n",
    "        # Is it the last character of the word.`\n",
    "        self.word_finished = False\n",
    "        #The full word we want to replace any abbreviations should it be found\n",
    "        self.fullWord = fullWord\n",
    "    \n",
    "    \n",
    "def add(root, abbreviation, fullWord):\n",
    "    \"\"\"\n",
    "    Adding a word in the trie structure\n",
    "    \"\"\"\n",
    "    node = root\n",
    "    for char in abbreviation:\n",
    "        found_in_child = False\n",
    "        # Search for the character in the children of the present `node`\n",
    "        for child in node.children:\n",
    "            if child.char == char:\n",
    "\n",
    "                # And point the node to the child that contains this char\n",
    "                node = child\n",
    "                found_in_child = True\n",
    "                break\n",
    "        # We did not find it so add a new chlid\n",
    "        if not found_in_child:\n",
    "            new_node = TrieNode(char)\n",
    "            node.children.append(new_node)\n",
    "            # And then point node to the new child\n",
    "            node = new_node\n",
    "    # Everything finished. Mark it as the end of a word.\n",
    "    node.word_finished = True\n",
    "    node.fullWord = fullWord #Store the fullword at the child node.\n",
    "    \n",
    "    \n",
    "def search(root, abbreviation):\n",
    "    '''\n",
    "    Checks if the abbreviation is contained within the Trie\n",
    "    '''\n",
    "    node = root\n",
    "    if not root.children: #If node has no children, then there cant be the word\n",
    "        return False, 0   \n",
    "    \n",
    "    for char in abbreviation:\n",
    "        char_not_found = True\n",
    "        \n",
    "        for child in node.children: #Search every child for the next char in abbreviation\n",
    "            if child.char == char:\n",
    "                char_not_found = False\n",
    "                \n",
    "                node = child #If found, set next node to child and break loop to now search new node for the next letter in abbreviation\n",
    "                break\n",
    "                \n",
    "        if char_not_found: #If we cannot find the character, the word does not exist in the Trie so we return False\n",
    "            return False,0\n",
    "        \n",
    "    if not node.fullWord: #If the node.fullWord is none, our word is a prefix of an actual abbreviation found in the Trie but we do not want that\n",
    "        return False,0\n",
    "    return True, node.fullWord #If we reach here, every letter has been found thus we return the word stored at that node.\n",
    "    "
   ]
  },
  {
   "cell_type": "markdown",
   "id": "b1a7fafb-5bd1-4062-8179-ec8e12af9b6c",
   "metadata": {},
   "source": [
    "## Building the Trie"
   ]
  },
  {
   "cell_type": "code",
   "execution_count": 2,
   "id": "ba595826-ba45-4b64-bda2-f6690a41f202",
   "metadata": {},
   "outputs": [
    {
     "data": {
      "text/html": [
       "<div>\n",
       "<style scoped>\n",
       "    .dataframe tbody tr th:only-of-type {\n",
       "        vertical-align: middle;\n",
       "    }\n",
       "\n",
       "    .dataframe tbody tr th {\n",
       "        vertical-align: top;\n",
       "    }\n",
       "\n",
       "    .dataframe thead th {\n",
       "        text-align: right;\n",
       "    }\n",
       "</style>\n",
       "<table border=\"1\" class=\"dataframe\">\n",
       "  <thead>\n",
       "    <tr style=\"text-align: right;\">\n",
       "      <th></th>\n",
       "      <th>Unnamed: 0</th>\n",
       "      <th>acronym</th>\n",
       "      <th>expansion</th>\n",
       "    </tr>\n",
       "  </thead>\n",
       "  <tbody>\n",
       "    <tr>\n",
       "      <th>0</th>\n",
       "      <td>0</td>\n",
       "      <td>2day</td>\n",
       "      <td>today</td>\n",
       "    </tr>\n",
       "    <tr>\n",
       "      <th>1</th>\n",
       "      <td>1</td>\n",
       "      <td>2m2h</td>\n",
       "      <td>too much too handle</td>\n",
       "    </tr>\n",
       "    <tr>\n",
       "      <th>2</th>\n",
       "      <td>2</td>\n",
       "      <td>2moro</td>\n",
       "      <td>tomorrow</td>\n",
       "    </tr>\n",
       "    <tr>\n",
       "      <th>3</th>\n",
       "      <td>3</td>\n",
       "      <td>2nite</td>\n",
       "      <td>tonight</td>\n",
       "    </tr>\n",
       "    <tr>\n",
       "      <th>4</th>\n",
       "      <td>4</td>\n",
       "      <td>4eae</td>\n",
       "      <td>for ever and ever</td>\n",
       "    </tr>\n",
       "  </tbody>\n",
       "</table>\n",
       "</div>"
      ],
      "text/plain": [
       "   Unnamed: 0 acronym            expansion\n",
       "0           0    2day                today\n",
       "1           1    2m2h  too much too handle\n",
       "2           2   2moro             tomorrow\n",
       "3           3   2nite              tonight\n",
       "4           4    4eae    for ever and ever"
      ]
     },
     "execution_count": 2,
     "metadata": {},
     "output_type": "execute_result"
    }
   ],
   "source": [
    "import pandas as pd\n",
    "df = pd.read_csv(\"projectData/slang.csv\", sep=',')\n",
    "df.head()"
   ]
  },
  {
   "cell_type": "code",
   "execution_count": 3,
   "id": "72a5ab90-a0bf-47cc-b2cc-d88eb9dcbd3a",
   "metadata": {},
   "outputs": [],
   "source": [
    "#Adding every abbreviation found in the slang dataset to the Trie\n",
    "trieRoot = TrieNode('*')\n",
    "for i in range(len(df['acronym'])):\n",
    "    add(trieRoot,df['acronym'][i],df['expansion'][i])"
   ]
  },
  {
   "cell_type": "code",
   "execution_count": 4,
   "id": "8f932c80-5759-4d19-b9c8-b9936bb913c7",
   "metadata": {},
   "outputs": [
    {
     "name": "stdout",
     "output_type": "stream",
     "text": [
      "(True, 'today')\n",
      "(True, 'too much too handle')\n",
      "(True, 'tomorrow')\n",
      "(True, 'tonight')\n",
      "(True, 'for ever and ever')\n",
      "(True, 'always and forever')\n",
      "(True, 'at any rate')\n",
      "(True, 'as always your friend')\n",
      "(True, 'already been done')\n",
      "(True, 'acknowledge')\n",
      "(True, 'another day in hell')\n",
      "(True, 'any day now')\n",
      "(True, 'all due respect')\n",
      "(True, 'as early as possible')\n",
      "(True, 'as far as i am concerned')\n"
     ]
    }
   ],
   "source": [
    "#Testing that we can find all of \n",
    "for i in range(15):\n",
    "    print(search(trieRoot,df['acronym'][i]))"
   ]
  },
  {
   "cell_type": "code",
   "execution_count": 5,
   "id": "593ba072-f490-4f48-8965-49d1e0ce479e",
   "metadata": {},
   "outputs": [
    {
     "name": "stdout",
     "output_type": "stream",
     "text": [
      "(False, 0)\n"
     ]
    }
   ],
   "source": [
    "print(search(trieRoot,\"ayo\"))"
   ]
  },
  {
   "cell_type": "markdown",
   "id": "a9b89426-2484-4ac6-8be3-4f07fc8cec85",
   "metadata": {},
   "source": [
    "### Method used to pass sentences through Trie"
   ]
  },
  {
   "cell_type": "code",
   "execution_count": 6,
   "id": "134aa697-1b33-4a7e-8344-2e947d12aa28",
   "metadata": {},
   "outputs": [],
   "source": [
    "def replace_Words(trie, sentence):\n",
    "    wordList = sentence.split(\" \") #splits string into a list seperated by spaces\n",
    "    \n",
    "    for i in range(len(wordList)): #For each word in the sentence, search for it in our Trie\n",
    "        returnValue = search(trie,wordList[i])\n",
    "        \n",
    "        if returnValue[0]: #If abbreviation is found in Trie, replace abbreviation with its full word.\n",
    "            wordList[i] = returnValue[1]\n",
    "            \n",
    "    output = ' '.join(str(item) for item in wordList) #Groups the list of word back into a single string\n",
    "    return output"
   ]
  },
  {
   "cell_type": "code",
   "execution_count": 7,
   "id": "e5269a91-6c6b-4ca3-af3f-39904a6b1a3a",
   "metadata": {},
   "outputs": [
    {
     "data": {
      "text/plain": [
       "'I love you for ever and ever'"
      ]
     },
     "execution_count": 7,
     "metadata": {},
     "output_type": "execute_result"
    }
   ],
   "source": [
    "#Testing the Method\n",
    "test = \"I love you 4eae\"\n",
    "replace_Words(trieRoot,test)"
   ]
  },
  {
   "cell_type": "markdown",
   "id": "986cd5c3-aa39-4d07-902f-a33bcee49111",
   "metadata": {
    "tags": []
   },
   "source": [
    "## Loading Data"
   ]
  },
  {
   "cell_type": "code",
   "execution_count": 8,
   "id": "254757d4-910f-469b-9f2c-b149f565b047",
   "metadata": {},
   "outputs": [
    {
     "data": {
      "text/plain": [
       "0        Why the game actually just drive to right and ...\n",
       "1        Ha suck. Beacuse current game no play always h...\n",
       "2        Always nostalgic, I was wondering if devs put ...\n",
       "3                                                Nice game\n",
       "4        Everything you need in a mobile game. Tons of ...\n",
       "                               ...                        \n",
       "84686    Doesn't work on Nexus 4 CM11 M1 at the moment ...\n",
       "84687    I love that Rockstar is making all these amazi...\n",
       "84688    I've been waiting for this game for a while an...\n",
       "84689    'download failed because you may not have purc...\n",
       "84690                                Weeeeeeeeee fiiiiirst\n",
       "Name: content, Length: 84691, dtype: object"
      ]
     },
     "execution_count": 8,
     "metadata": {},
     "output_type": "execute_result"
    }
   ],
   "source": [
    "rockstar = pd.read_csv(\"projectData/com.rockstargames.gtasa.csv\",low_memory=False)\n",
    "rockstar['content']"
   ]
  },
  {
   "cell_type": "code",
   "execution_count": 9,
   "id": "f3330777-1cc5-4f39-a8ad-f9bc6934f927",
   "metadata": {},
   "outputs": [
    {
     "data": {
      "text/plain": [
       "0         Very bad no updates nothing is new same map ma...\n",
       "1         In this game the missions are kinda hard to pl...\n",
       "2                Idk why but the the sound is stuttering...\n",
       "3                                                Cool, man.\n",
       "4                                                     super\n",
       "                                ...                        \n",
       "100436    Error while downloading please fix the bug or ...\n",
       "100437                                      Great job guys!\n",
       "100438                   Best game on app store hands down.\n",
       "100439        Error when downloading despite space on phone\n",
       "100440    Definitely worth $5 I had no doubts since I wa...\n",
       "Name: content, Length: 100441, dtype: object"
      ]
     },
     "execution_count": 9,
     "metadata": {},
     "output_type": "execute_result"
    }
   ],
   "source": [
    "squareenix = pd.read_csv(\"projectData/com.squareenixmontreal.hitmansniperandroid.csv\",low_memory=False)\n",
    "squareenix['content']"
   ]
  },
  {
   "cell_type": "code",
   "execution_count": 10,
   "id": "1127388a-711d-4198-b2fc-07460b00c959",
   "metadata": {},
   "outputs": [
    {
     "data": {
      "text/plain": [
       "0        Awesome game! I played Da Vinci's House 1 & 2 ...\n",
       "1        I truly enjoyed this game! I love puzzle games...\n",
       "2                                              Great game.\n",
       "3                     ❤️❤️❤️❤️❤️❤️❤️❤️❤️❤️❤️❤️❤️❤️❤️❤️❤️❤️\n",
       "4        A brilliant game, all the clues are there but ...\n",
       "                               ...                        \n",
       "51383    Great puzzles, a little on the short side but ...\n",
       "51384    While the graphics are amazing and take some t...\n",
       "51385                    Worth every penny an amazing game\n",
       "51386                    Great game, finally on Android :)\n",
       "51387     Only just started really but completely smitten.\n",
       "Name: content, Length: 51388, dtype: object"
      ]
     },
     "execution_count": 10,
     "metadata": {},
     "output_type": "execute_result"
    }
   ],
   "source": [
    "theRoom1 = pd.read_csv(\"projectData/com.FireproofStudios.TheRoom.csv\",low_memory=False)\n",
    "theRoom1['content']"
   ]
  },
  {
   "cell_type": "code",
   "execution_count": 11,
   "id": "46a2fb54-7a98-4c8f-b019-022feb62a142",
   "metadata": {},
   "outputs": [
    {
     "data": {
      "text/plain": [
       "0        Highly recommended! I'm addicted to this serie...\n",
       "1        Brilliant, kept me enthralled. Brain stimulati...\n",
       "2        Fun and challenging. Lots of cool visuals and ...\n",
       "3        Still a great game. However it does at some po...\n",
       "4                                                Fun stuff\n",
       "                               ...                        \n",
       "46141    The graphics are unlike any other mobile game!...\n",
       "46142    You guys definitely have a excellent future ah...\n",
       "46143    Best Game... I hope I get to play this with my...\n",
       "46144                                 Absolutely stunning!\n",
       "46145    Your games are awesome and we'll worth the wai...\n",
       "Name: content, Length: 46146, dtype: object"
      ]
     },
     "execution_count": 11,
     "metadata": {},
     "output_type": "execute_result"
    }
   ],
   "source": [
    "theRoom2 = pd.read_csv(\"projectData/com.FireproofStudios.TheRoom2.csv\",low_memory=False)\n",
    "theRoom2['content']"
   ]
  },
  {
   "cell_type": "markdown",
   "id": "04ab7adc-58f1-4dee-8b3e-9886f9a5a834",
   "metadata": {},
   "source": [
    "## Graphing Performance"
   ]
  },
  {
   "cell_type": "code",
   "execution_count": 12,
   "id": "d447e20d-e44a-4502-a391-467f0d273c57",
   "metadata": {},
   "outputs": [],
   "source": [
    "import matplotlib.pyplot as plt\n",
    "import time\n",
    "dfList = [rockstar['content'],squareenix['content'],theRoom1['content'],theRoom2['content']]"
   ]
  },
  {
   "cell_type": "code",
   "execution_count": 13,
   "id": "fef36965-0159-4e64-b912-c7dd1cf8a962",
   "metadata": {},
   "outputs": [],
   "source": [
    "ts = []\n",
    "def process_data():\n",
    "    start = time.time()\n",
    "    for df in dfList:\n",
    "        for j in range(len(df)):\n",
    "            sentence = str(df[j])\n",
    "            replace_Words(trieRoot,sentence)\n",
    "            end = time.time()\n",
    "            ts.append(end - start)\n",
    "            "
   ]
  },
  {
   "cell_type": "code",
   "execution_count": 14,
   "id": "fa0fa900-01ea-4c77-aa5a-fb43567e0680",
   "metadata": {},
   "outputs": [
    {
     "data": {
      "text/plain": [
       "<matplotlib.collections.PathCollection at 0x18a11753be0>"
      ]
     },
     "execution_count": 14,
     "metadata": {},
     "output_type": "execute_result"
    },
    {
     "data": {
      "image/png": "[encoded data removed]",
      "text/plain": [
       "<Figure size 640x480 with 1 Axes>"
      ]
     },
     "metadata": {},
     "output_type": "display_data"
    }
   ],
   "source": [
    "process_data()\n",
    "x = range(1,len(ts)+1)\n",
    "plt.scatter(x,ts)"
   ]
  },
  {
   "cell_type": "markdown",
   "id": "bbd1c89b-1908-4210-80e3-8370e1ee4c68",
   "metadata": {},
   "source": [
    "#### Hashtable Graph for Reference\n"
   ]
  },
  {
   "cell_type": "code",
   "execution_count": null,
   "id": "d952fda7-8810-407f-beaa-1d448d4e4c0e",
   "metadata": {},
   "outputs": [],
   "source": []
  }
 ],
 "metadata": {
  "kernelspec": {
   "display_name": "Python 3 (ipykernel)",
   "language": "python",
   "name": "python3"
  },
  "language_info": {
   "codemirror_mode": {
    "name": "ipython",
    "version": 3
   },
   "file_extension": ".py",
   "mimetype": "text/x-python",
   "name": "python",
   "nbconvert_exporter": "python",
   "pygments_lexer": "ipython3",
   "version": "3.10.8"
  }
 },
 "nbformat": 4,
 "nbformat_minor": 5
}
