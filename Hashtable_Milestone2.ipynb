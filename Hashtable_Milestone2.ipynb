{
  "cells": [
    {
      "cell_type": "code",
      "execution_count": 13,
      "id": "6e7c689b-223a-4376-8487-ff9b7317ca75",
      "metadata": {
        "trusted": true
      },
      "outputs": [
        {
          "data": {
            "text/html": [
              "<div>\n",
              "<style scoped>\n",
              "    .dataframe tbody tr th:only-of-type {\n",
              "        vertical-align: middle;\n",
              "    }\n",
              "\n",
              "    .dataframe tbody tr th {\n",
              "        vertical-align: top;\n",
              "    }\n",
              "\n",
              "    .dataframe thead th {\n",
              "        text-align: right;\n",
              "    }\n",
              "</style>\n",
              "<table border=\"1\" class=\"dataframe\">\n",
              "  <thead>\n",
              "    <tr style=\"text-align: right;\">\n",
              "      <th></th>\n",
              "      <th>Unnamed: 0</th>\n",
              "      <th>acronym</th>\n",
              "      <th>expansion</th>\n",
              "    </tr>\n",
              "  </thead>\n",
              "  <tbody>\n",
              "    <tr>\n",
              "      <th>0</th>\n",
              "      <td>0</td>\n",
              "      <td>2day</td>\n",
              "      <td>today</td>\n",
              "    </tr>\n",
              "    <tr>\n",
              "      <th>1</th>\n",
              "      <td>1</td>\n",
              "      <td>2m2h</td>\n",
              "      <td>too much too handle</td>\n",
              "    </tr>\n",
              "    <tr>\n",
              "      <th>2</th>\n",
              "      <td>2</td>\n",
              "      <td>2moro</td>\n",
              "      <td>tomorrow</td>\n",
              "    </tr>\n",
              "    <tr>\n",
              "      <th>3</th>\n",
              "      <td>3</td>\n",
              "      <td>2nite</td>\n",
              "      <td>tonight</td>\n",
              "    </tr>\n",
              "    <tr>\n",
              "      <th>4</th>\n",
              "      <td>4</td>\n",
              "      <td>4eae</td>\n",
              "      <td>for ever and ever</td>\n",
              "    </tr>\n",
              "    <tr>\n",
              "      <th>...</th>\n",
              "      <td>...</td>\n",
              "      <td>...</td>\n",
              "      <td>...</td>\n",
              "    </tr>\n",
              "    <tr>\n",
              "      <th>3352</th>\n",
              "      <td>3352</td>\n",
              "      <td>yw</td>\n",
              "      <td>you are welcome</td>\n",
              "    </tr>\n",
              "    <tr>\n",
              "      <th>3353</th>\n",
              "      <td>3353</td>\n",
              "      <td>ywca</td>\n",
              "      <td>young womens christian association</td>\n",
              "    </tr>\n",
              "    <tr>\n",
              "      <th>3354</th>\n",
              "      <td>3354</td>\n",
              "      <td>ywimc</td>\n",
              "      <td>your wish is my command</td>\n",
              "    </tr>\n",
              "    <tr>\n",
              "      <th>3355</th>\n",
              "      <td>3355</td>\n",
              "      <td>ywsyls</td>\n",
              "      <td>you win some you lose some</td>\n",
              "    </tr>\n",
              "    <tr>\n",
              "      <th>3356</th>\n",
              "      <td>3356</td>\n",
              "      <td>ywu</td>\n",
              "      <td>yo waz up</td>\n",
              "    </tr>\n",
              "  </tbody>\n",
              "</table>\n",
              "<p>3357 rows × 3 columns</p>\n",
              "</div>"
            ],
            "text/plain": [
              "      Unnamed: 0 acronym                           expansion\n",
              "0              0    2day                               today\n",
              "1              1    2m2h                 too much too handle\n",
              "2              2   2moro                            tomorrow\n",
              "3              3   2nite                             tonight\n",
              "4              4    4eae                   for ever and ever\n",
              "...          ...     ...                                 ...\n",
              "3352        3352      yw                     you are welcome\n",
              "3353        3353    ywca  young womens christian association\n",
              "3354        3354   ywimc             your wish is my command\n",
              "3355        3355  ywsyls          you win some you lose some\n",
              "3356        3356     ywu                           yo waz up\n",
              "\n",
              "[3357 rows x 3 columns]"
            ]
          },
          "execution_count": 13,
          "metadata": {},
          "output_type": "execute_result"
        }
      ],
      "source": [
        "import pandas as pd\n",
        "import matplotlib\n",
        "import numpy as np\n",
        "import matplotlib.pyplot as plt\n",
        "import timeit\n",
        "import time\n",
        "\n",
        "#read and display slang dataset\n",
        "df = pd.read_csv(\"projectData/slang.csv\", sep=',')\n",
        "df"
      ]
    },
    {
      "cell_type": "code",
      "execution_count": 14,
      "id": "ff5f1cc0-daa1-41ae-861e-0ab92bc44f75",
      "metadata": {
        "trusted": true
      },
      "outputs": [],
      "source": [
        "#Hashtable that will be used inside the method. Creating it outside saves us from creating the hashTable each time the method is called\n",
        "hashTable = dict(zip(df[\"acronym\"], df[\"expansion\"])) "
      ]
    },
    {
      "cell_type": "code",
      "execution_count": 15,
      "id": "74710438-f735-4c30-bf9d-cbef056cc344",
      "metadata": {
        "trusted": true
      },
      "outputs": [],
      "source": [
        "def acronyms(sentence: str) -> str: #Takes an input and output of a string\n",
        "    wordList = sentence.split(\" \") #splits string into a list seperated by spaces\n",
        "    \n",
        "    for word in range(len(wordList)):\n",
        "        if wordList[word] in hashTable: #if the word is a key in the hashtable, convert it to the long english form\n",
        "            wordList[word] = hashTable[wordList[word]]\n",
        "            \n",
        "    output = ' '.join(wordList) #Groups the list of word back into a single string\n",
        "    return output"
      ]
    },
    {
      "cell_type": "code",
      "execution_count": 16,
      "id": "3cdfb049-b5ea-40c7-a2d4-2c16a864e4c1",
      "metadata": {
        "trusted": true
      },
      "outputs": [
        {
          "data": {
            "text/plain": [
              "'Hello yo waz up'"
            ]
          },
          "execution_count": 16,
          "metadata": {},
          "output_type": "execute_result"
        }
      ],
      "source": [
        "acronyms(\"Hello ywu\") #test case"
      ]
    },
    {
      "cell_type": "code",
      "execution_count": 17,
      "id": "5be6f9cb-270e-4e2f-9894-354bae293e4c",
      "metadata": {
        "trusted": true
      },
      "outputs": [],
      "source": [
        "#read dataset to be processed\n",
        "df2 = pd.read_csv(\"projectData/age.of.civilizations.jakowski.csv\", sep=',')\n",
        "df2 = df2.notnull()\n"
      ]
    },
    {
      "cell_type": "code",
      "execution_count": 18,
      "id": "2bf72a87-a988-4b2e-a458-78b45476a959",
      "metadata": {
        "trusted": true
      },
      "outputs": [
        {
          "data": {
            "text/html": [
              "<div>\n",
              "<style scoped>\n",
              "    .dataframe tbody tr th:only-of-type {\n",
              "        vertical-align: middle;\n",
              "    }\n",
              "\n",
              "    .dataframe tbody tr th {\n",
              "        vertical-align: top;\n",
              "    }\n",
              "\n",
              "    .dataframe thead th {\n",
              "        text-align: right;\n",
              "    }\n",
              "</style>\n",
              "<table border=\"1\" class=\"dataframe\">\n",
              "  <thead>\n",
              "    <tr style=\"text-align: right;\">\n",
              "      <th></th>\n",
              "      <th>reviewId</th>\n",
              "      <th>userName</th>\n",
              "      <th>userImage</th>\n",
              "      <th>content</th>\n",
              "      <th>score</th>\n",
              "      <th>thumbsUpCount</th>\n",
              "      <th>reviewCreatedVersion</th>\n",
              "      <th>at</th>\n",
              "      <th>replyContent</th>\n",
              "      <th>repliedAt</th>\n",
              "    </tr>\n",
              "  </thead>\n",
              "  <tbody>\n",
              "    <tr>\n",
              "      <th>0</th>\n",
              "      <td>True</td>\n",
              "      <td>True</td>\n",
              "      <td>True</td>\n",
              "      <td>True</td>\n",
              "      <td>True</td>\n",
              "      <td>True</td>\n",
              "      <td>True</td>\n",
              "      <td>True</td>\n",
              "      <td>False</td>\n",
              "      <td>False</td>\n",
              "    </tr>\n",
              "    <tr>\n",
              "      <th>1</th>\n",
              "      <td>True</td>\n",
              "      <td>True</td>\n",
              "      <td>True</td>\n",
              "      <td>True</td>\n",
              "      <td>True</td>\n",
              "      <td>True</td>\n",
              "      <td>True</td>\n",
              "      <td>True</td>\n",
              "      <td>False</td>\n",
              "      <td>False</td>\n",
              "    </tr>\n",
              "    <tr>\n",
              "      <th>2</th>\n",
              "      <td>True</td>\n",
              "      <td>True</td>\n",
              "      <td>True</td>\n",
              "      <td>True</td>\n",
              "      <td>True</td>\n",
              "      <td>True</td>\n",
              "      <td>False</td>\n",
              "      <td>True</td>\n",
              "      <td>False</td>\n",
              "      <td>False</td>\n",
              "    </tr>\n",
              "    <tr>\n",
              "      <th>3</th>\n",
              "      <td>True</td>\n",
              "      <td>True</td>\n",
              "      <td>True</td>\n",
              "      <td>True</td>\n",
              "      <td>True</td>\n",
              "      <td>True</td>\n",
              "      <td>True</td>\n",
              "      <td>True</td>\n",
              "      <td>False</td>\n",
              "      <td>False</td>\n",
              "    </tr>\n",
              "    <tr>\n",
              "      <th>4</th>\n",
              "      <td>True</td>\n",
              "      <td>True</td>\n",
              "      <td>True</td>\n",
              "      <td>True</td>\n",
              "      <td>True</td>\n",
              "      <td>True</td>\n",
              "      <td>True</td>\n",
              "      <td>True</td>\n",
              "      <td>False</td>\n",
              "      <td>False</td>\n",
              "    </tr>\n",
              "  </tbody>\n",
              "</table>\n",
              "</div>"
            ],
            "text/plain": [
              "   reviewId  userName  userImage  content  score  thumbsUpCount  \\\n",
              "0      True      True       True     True   True           True   \n",
              "1      True      True       True     True   True           True   \n",
              "2      True      True       True     True   True           True   \n",
              "3      True      True       True     True   True           True   \n",
              "4      True      True       True     True   True           True   \n",
              "\n",
              "   reviewCreatedVersion    at  replyContent  repliedAt  \n",
              "0                  True  True         False      False  \n",
              "1                  True  True         False      False  \n",
              "2                 False  True         False      False  \n",
              "3                  True  True         False      False  \n",
              "4                  True  True         False      False  "
            ]
          },
          "execution_count": 18,
          "metadata": {},
          "output_type": "execute_result"
        }
      ],
      "source": [
        "df2.head()"
      ]
    },
    {
      "cell_type": "code",
      "execution_count": 19,
      "id": "54527c81-90e8-4f4f-8a09-874a909cf888",
      "metadata": {
        "trusted": true
      },
      "outputs": [],
      "source": [
        "ts = []\n",
        "#Helper function to record time spent by iteration, stored in ts\n",
        "\n",
        "def replace():\n",
        "    start = time.time()\n",
        "    print(start)\n",
        "    for index, row in df2.iterrows():\n",
        "        acronyms(row['content'].astype(str))\n",
        "        end = time.time()\n",
        "        ts.append(end - start)\n",
        "        "
      ]
    },
    {
      "cell_type": "code",
      "execution_count": 20,
      "id": "4406fb8c-23cc-45bb-99a4-d292c1b290c6",
      "metadata": {
        "trusted": true
      },
      "outputs": [
        {
          "name": "stdout",
          "output_type": "stream",
          "text": [
            "1681189383.38\n"
          ]
        },
        {
          "data": {
            "text/plain": [
              "<matplotlib.collections.PathCollection at 0x52e0760>"
            ]
          },
          "execution_count": 20,
          "metadata": {},
          "output_type": "execute_result"
        },
        {
          "data": {
            "image/png": "[encoded data removed]",
            "text/plain": [
              "<Figure size 640x480 with 1 Axes>"
            ]
          },
          "metadata": {},
          "output_type": "display_data"
        }
      ],
      "source": [
        "replace()\n",
        "#Plot time complexcity\n",
        "\n",
        "x = range(1, len(ts)+1)\n",
        "plt.scatter(x, ts)"
      ]
    }
  ],
  "metadata": {
    "kernelspec": {
      "display_name": "Python 3",
      "language": "python",
      "name": "python3"
    },
    "language_info": {
      "codemirror_mode": {
        "name": "python",
        "version": 3
      },
      "file_extension": ".py",
      "mimetype": "text/x-python",
      "name": "python",
      "nbconvert_exporter": "python",
      "pygments_lexer": "ipython3",
      "version": "3.11.1"
    }
  },
  "nbformat": 4,
  "nbformat_minor": 5
}
