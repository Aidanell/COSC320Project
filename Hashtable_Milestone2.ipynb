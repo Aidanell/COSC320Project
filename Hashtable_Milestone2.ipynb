{
  "metadata": {
    "kernelspec": {
      "name": "python",
      "display_name": "Python (Pyodide)",
      "language": "python"
    },
    "language_info": {
      "codemirror_mode": {
        "name": "python",
        "version": 3
      },
      "file_extension": ".py",
      "mimetype": "text/x-python",
      "name": "python",
      "nbconvert_exporter": "python",
      "pygments_lexer": "ipython3",
      "version": "3.8"
    }
  },
  "nbformat_minor": 5,
  "nbformat": 4,
  "cells": [
    {
      "cell_type": "code",
      "source": "import pandas as pd\nimport matplotlib\nimport numpy as np\nimport matplotlib.pyplot as plt\nimport timeit\nimport time\n\ndf = pd.read_csv(\"projectData/slang.csv\", sep=',')\ndf",
      "metadata": {
        "trusted": true
      },
      "execution_count": 1,
      "outputs": [
        {
          "execution_count": 1,
          "output_type": "execute_result",
          "data": {
            "text/plain": "      Unnamed: 0 acronym                           expansion\n0              0    2day                               today\n1              1    2m2h                 too much too handle\n2              2   2moro                            tomorrow\n3              3   2nite                             tonight\n4              4    4eae                   for ever and ever\n...          ...     ...                                 ...\n3352        3352      yw                     you are welcome\n3353        3353    ywca  young womens christian association\n3354        3354   ywimc             your wish is my command\n3355        3355  ywsyls          you win some you lose some\n3356        3356     ywu                           yo waz up\n\n[3357 rows x 3 columns]",
            "text/html": "<div>\n<style scoped>\n    .dataframe tbody tr th:only-of-type {\n        vertical-align: middle;\n    }\n\n    .dataframe tbody tr th {\n        vertical-align: top;\n    }\n\n    .dataframe thead th {\n        text-align: right;\n    }\n</style>\n<table border=\"1\" class=\"dataframe\">\n  <thead>\n    <tr style=\"text-align: right;\">\n      <th></th>\n      <th>Unnamed: 0</th>\n      <th>acronym</th>\n      <th>expansion</th>\n    </tr>\n  </thead>\n  <tbody>\n    <tr>\n      <th>0</th>\n      <td>0</td>\n      <td>2day</td>\n      <td>today</td>\n    </tr>\n    <tr>\n      <th>1</th>\n      <td>1</td>\n      <td>2m2h</td>\n      <td>too much too handle</td>\n    </tr>\n    <tr>\n      <th>2</th>\n      <td>2</td>\n      <td>2moro</td>\n      <td>tomorrow</td>\n    </tr>\n    <tr>\n      <th>3</th>\n      <td>3</td>\n      <td>2nite</td>\n      <td>tonight</td>\n    </tr>\n    <tr>\n      <th>4</th>\n      <td>4</td>\n      <td>4eae</td>\n      <td>for ever and ever</td>\n    </tr>\n    <tr>\n      <th>...</th>\n      <td>...</td>\n      <td>...</td>\n      <td>...</td>\n    </tr>\n    <tr>\n      <th>3352</th>\n      <td>3352</td>\n      <td>yw</td>\n      <td>you are welcome</td>\n    </tr>\n    <tr>\n      <th>3353</th>\n      <td>3353</td>\n      <td>ywca</td>\n      <td>young womens christian association</td>\n    </tr>\n    <tr>\n      <th>3354</th>\n      <td>3354</td>\n      <td>ywimc</td>\n      <td>your wish is my command</td>\n    </tr>\n    <tr>\n      <th>3355</th>\n      <td>3355</td>\n      <td>ywsyls</td>\n      <td>you win some you lose some</td>\n    </tr>\n    <tr>\n      <th>3356</th>\n      <td>3356</td>\n      <td>ywu</td>\n      <td>yo waz up</td>\n    </tr>\n  </tbody>\n</table>\n<p>3357 rows × 3 columns</p>\n</div>"
          },
          "metadata": {}
        }
      ],
      "id": "6e7c689b-223a-4376-8487-ff9b7317ca75"
    },
    {
      "cell_type": "code",
      "source": "#Hashtable that will be used inside the method. Creating it outside saves us from creating the hashTable each time the method is called\nhashTable = dict(zip(df[\"acronym\"], df[\"expansion\"])) ",
      "metadata": {
        "trusted": true
      },
      "execution_count": 2,
      "outputs": [],
      "id": "ff5f1cc0-daa1-41ae-861e-0ab92bc44f75"
    },
    {
      "cell_type": "code",
      "source": "def acronyms(sentence: str) -> str: #Takes an input and output of a string\n    wordList = str(sentence).split(\" \") #splits string into a list seperated by spaces\n    \n    for word in range(len(wordList)):\n        if wordList[word] in hashTable: #if the word is a key in the hashtable, convert it to the long english form\n            wordList[word] = hashTable[wordList[word]]\n            \n    output = ' '.join(wordList) #Groups the list of word back into a single string\n    return output",
      "metadata": {
        "trusted": true
      },
      "execution_count": 3,
      "outputs": [],
      "id": "74710438-f735-4c30-bf9d-cbef056cc344"
    },
    {
      "cell_type": "code",
      "source": "acronyms(\"Hello ywu\") #test case",
      "metadata": {
        "trusted": true
      },
      "execution_count": 4,
      "outputs": [
        {
          "execution_count": 4,
          "output_type": "execute_result",
          "data": {
            "text/plain": "'Hello yo waz up'"
          },
          "metadata": {}
        }
      ],
      "id": "3cdfb049-b5ea-40c7-a2d4-2c16a864e4c1"
    },
    {
      "cell_type": "code",
      "source": "#read dataset to be processed\nimport glob\ncsvFiles = glob.glob('datasetConcat/*.csv',recursive=True)\n",
      "metadata": {
        "trusted": true
      },
      "execution_count": 5,
      "outputs": [],
      "id": "5be6f9cb-270e-4e2f-9894-354bae293e4c"
    },
    {
      "cell_type": "code",
      "source": "df2 = pd.DataFrame()\nfor file in csvFiles:\n    try:\n        df = pd.read_csv(file)\n        if not df.empty:\n            df2 = pd.concat([df2, df], ignore_index=True)\n    except pd.errors.EmptyDataError:\n        # Skip empty CSV files\n        continue\ndf2",
      "metadata": {
        "trusted": true
      },
      "execution_count": 6,
      "outputs": [
        {
          "execution_count": 6,
          "output_type": "execute_result",
          "data": {
            "text/plain": "                                                reviewId            userName  \\\n0      gp:AOqpTOE3HBpptLU8Kfagdo9cV6yVLMhvLefG_2r6sxP...      Nikola Nikolov   \n1      gp:AOqpTOEQRM1_8hWu7aH0wuzt31FOmCZiMmGYTPHRUDz...      Konichiyawa TV   \n2      gp:AOqpTOH38-v1AXWkwAal2FDBbLlc0Z8d7XWD7JtHb9I...         Furry Petal   \n3      gp:AOqpTOFANKH-A7EfEO2qZJUYk899Ppi3HOHxXBpTl5o...       Jane Recalls1   \n4      gp:AOqpTOF9T_NR0aVzuJXdVX565ppRc5QsbAJ0pVsoi8A...           Kyla AJ M   \n...                                                  ...                 ...   \n89766  gp:AOqpTOEmLKN61eg-Fsu7WCh8vNyP3A8WBLr4j9ZXQV2...         Mayur Dixit   \n89767  gp:AOqpTOEJ9ilSSf2xjOtWFtw6EWM2Ct-8GvgvhIm2m_e...     Crystal McGrath   \n89768  gp:AOqpTOErrbJo9iyxGzBOqxWxlVkyfHZMzCD7ngdpnDw...        Dennis Aktas   \n89769  gp:AOqpTOFu__1RJdWSuRRczu101XTeQloZd4Cvc1SVV9j...  Alessandro Lazzaro   \n89770  gp:AOqpTOGZ3EYYLWtvkpOKvpHG7YSJOTY66dcNNg0Pobm...     Nicola Ferrante   \n\n                                               userImage  \\\n0      https://play-lh.googleusercontent.com/-7UuZRRt...   \n1      https://play-lh.googleusercontent.com/a-/AOh14...   \n2      https://play-lh.googleusercontent.com/a-/AOh14...   \n3      https://play-lh.googleusercontent.com/a-/AOh14...   \n4      https://play-lh.googleusercontent.com/a-/AOh14...   \n...                                                  ...   \n89766  https://play-lh.googleusercontent.com/a-/AOh14...   \n89767  https://play-lh.googleusercontent.com/a-/AOh14...   \n89768  https://play-lh.googleusercontent.com/-m783Mux...   \n89769  https://play-lh.googleusercontent.com/a-/AOh14...   \n89770  https://play-lh.googleusercontent.com/-hYNHZIw...   \n\n                                                 content  score  \\\n0      Different and challenging game. Keeps interest...      4   \n1      It was awesome! from mechanics, atmosphere, so...      5   \n2      Hopfully Me Buying This Game Increases The Cha...      5   \n3           Love the Choose Your Own Adventure game play      5   \n4      It's a fun game, with funny dialog and choices...      5   \n...                                                  ...    ...   \n89766                                     Amazing app...      5   \n89767  Very helpful app. Cast video and music from An...      5   \n89768  Gotta admit i was a little skeptical. But Cast...      4   \n89769  Simple app with elegant graphics! With each up...      5   \n89770  Just an easy going app with a nice and simple ...      5   \n\n       thumbsUpCount reviewCreatedVersion                   at  \\\n0                  0                1.0.8  2020-12-07 21:41:23   \n1                  2                1.0.8  2020-11-23 02:07:51   \n2                  0                1.0.6  2020-09-20 06:09:47   \n3                  0                1.0.2  2020-06-14 01:49:54   \n4                  1                1.0.1  2020-03-21 15:51:39   \n...              ...                  ...                  ...   \n89766              9                3.2.5  2020-01-12 19:52:08   \n89767             27                3.2.5  2020-01-12 05:59:18   \n89768             20                3.2.4  2020-01-11 15:57:53   \n89769              9                1.8.2  2020-12-20 09:21:10   \n89770              6                1.8.2  2020-12-09 09:49:02   \n\n                                            replyContent            repliedAt  \n0      We're sorry to hear that you're having this pr...  2020-12-15 09:44:48  \n1      Thanks so much for the awesome review. We appr...  2020-11-24 14:25:06  \n2      We are truly happy that you enjoyed our game. ...  2020-11-24 14:25:10  \n3          Thank you very much for your 5-star review!!!  2020-11-24 14:25:25  \n4                                                    NaN                  NaN  \n...                                                  ...                  ...  \n89766                                                NaN                  NaN  \n89767                                                NaN                  NaN  \n89768  Thank you for downloading our app! We will kee...  2019-12-08 22:40:53  \n89769  Thank you! It's nice to see my work appreciate...  2020-12-21 00:40:28  \n89770  Thank you! It's nice to see my work appreciate...  2020-12-09 11:25:38  \n\n[89771 rows x 10 columns]",
            "text/html": "<div>\n<style scoped>\n    .dataframe tbody tr th:only-of-type {\n        vertical-align: middle;\n    }\n\n    .dataframe tbody tr th {\n        vertical-align: top;\n    }\n\n    .dataframe thead th {\n        text-align: right;\n    }\n</style>\n<table border=\"1\" class=\"dataframe\">\n  <thead>\n    <tr style=\"text-align: right;\">\n      <th></th>\n      <th>reviewId</th>\n      <th>userName</th>\n      <th>userImage</th>\n      <th>content</th>\n      <th>score</th>\n      <th>thumbsUpCount</th>\n      <th>reviewCreatedVersion</th>\n      <th>at</th>\n      <th>replyContent</th>\n      <th>repliedAt</th>\n    </tr>\n  </thead>\n  <tbody>\n    <tr>\n      <th>0</th>\n      <td>gp:AOqpTOE3HBpptLU8Kfagdo9cV6yVLMhvLefG_2r6sxP...</td>\n      <td>Nikola Nikolov</td>\n      <td>https://play-lh.googleusercontent.com/-7UuZRRt...</td>\n      <td>Different and challenging game. Keeps interest...</td>\n      <td>4</td>\n      <td>0</td>\n      <td>1.0.8</td>\n      <td>2020-12-07 21:41:23</td>\n      <td>We're sorry to hear that you're having this pr...</td>\n      <td>2020-12-15 09:44:48</td>\n    </tr>\n    <tr>\n      <th>1</th>\n      <td>gp:AOqpTOEQRM1_8hWu7aH0wuzt31FOmCZiMmGYTPHRUDz...</td>\n      <td>Konichiyawa TV</td>\n      <td>https://play-lh.googleusercontent.com/a-/AOh14...</td>\n      <td>It was awesome! from mechanics, atmosphere, so...</td>\n      <td>5</td>\n      <td>2</td>\n      <td>1.0.8</td>\n      <td>2020-11-23 02:07:51</td>\n      <td>Thanks so much for the awesome review. We appr...</td>\n      <td>2020-11-24 14:25:06</td>\n    </tr>\n    <tr>\n      <th>2</th>\n      <td>gp:AOqpTOH38-v1AXWkwAal2FDBbLlc0Z8d7XWD7JtHb9I...</td>\n      <td>Furry Petal</td>\n      <td>https://play-lh.googleusercontent.com/a-/AOh14...</td>\n      <td>Hopfully Me Buying This Game Increases The Cha...</td>\n      <td>5</td>\n      <td>0</td>\n      <td>1.0.6</td>\n      <td>2020-09-20 06:09:47</td>\n      <td>We are truly happy that you enjoyed our game. ...</td>\n      <td>2020-11-24 14:25:10</td>\n    </tr>\n    <tr>\n      <th>3</th>\n      <td>gp:AOqpTOFANKH-A7EfEO2qZJUYk899Ppi3HOHxXBpTl5o...</td>\n      <td>Jane Recalls1</td>\n      <td>https://play-lh.googleusercontent.com/a-/AOh14...</td>\n      <td>Love the Choose Your Own Adventure game play</td>\n      <td>5</td>\n      <td>0</td>\n      <td>1.0.2</td>\n      <td>2020-06-14 01:49:54</td>\n      <td>Thank you very much for your 5-star review!!!</td>\n      <td>2020-11-24 14:25:25</td>\n    </tr>\n    <tr>\n      <th>4</th>\n      <td>gp:AOqpTOF9T_NR0aVzuJXdVX565ppRc5QsbAJ0pVsoi8A...</td>\n      <td>Kyla AJ M</td>\n      <td>https://play-lh.googleusercontent.com/a-/AOh14...</td>\n      <td>It's a fun game, with funny dialog and choices...</td>\n      <td>5</td>\n      <td>1</td>\n      <td>1.0.1</td>\n      <td>2020-03-21 15:51:39</td>\n      <td>NaN</td>\n      <td>NaN</td>\n    </tr>\n    <tr>\n      <th>...</th>\n      <td>...</td>\n      <td>...</td>\n      <td>...</td>\n      <td>...</td>\n      <td>...</td>\n      <td>...</td>\n      <td>...</td>\n      <td>...</td>\n      <td>...</td>\n      <td>...</td>\n    </tr>\n    <tr>\n      <th>89766</th>\n      <td>gp:AOqpTOEmLKN61eg-Fsu7WCh8vNyP3A8WBLr4j9ZXQV2...</td>\n      <td>Mayur Dixit</td>\n      <td>https://play-lh.googleusercontent.com/a-/AOh14...</td>\n      <td>Amazing app...</td>\n      <td>5</td>\n      <td>9</td>\n      <td>3.2.5</td>\n      <td>2020-01-12 19:52:08</td>\n      <td>NaN</td>\n      <td>NaN</td>\n    </tr>\n    <tr>\n      <th>89767</th>\n      <td>gp:AOqpTOEJ9ilSSf2xjOtWFtw6EWM2Ct-8GvgvhIm2m_e...</td>\n      <td>Crystal McGrath</td>\n      <td>https://play-lh.googleusercontent.com/a-/AOh14...</td>\n      <td>Very helpful app. Cast video and music from An...</td>\n      <td>5</td>\n      <td>27</td>\n      <td>3.2.5</td>\n      <td>2020-01-12 05:59:18</td>\n      <td>NaN</td>\n      <td>NaN</td>\n    </tr>\n    <tr>\n      <th>89768</th>\n      <td>gp:AOqpTOErrbJo9iyxGzBOqxWxlVkyfHZMzCD7ngdpnDw...</td>\n      <td>Dennis Aktas</td>\n      <td>https://play-lh.googleusercontent.com/-m783Mux...</td>\n      <td>Gotta admit i was a little skeptical. But Cast...</td>\n      <td>4</td>\n      <td>20</td>\n      <td>3.2.4</td>\n      <td>2020-01-11 15:57:53</td>\n      <td>Thank you for downloading our app! We will kee...</td>\n      <td>2019-12-08 22:40:53</td>\n    </tr>\n    <tr>\n      <th>89769</th>\n      <td>gp:AOqpTOFu__1RJdWSuRRczu101XTeQloZd4Cvc1SVV9j...</td>\n      <td>Alessandro Lazzaro</td>\n      <td>https://play-lh.googleusercontent.com/a-/AOh14...</td>\n      <td>Simple app with elegant graphics! With each up...</td>\n      <td>5</td>\n      <td>9</td>\n      <td>1.8.2</td>\n      <td>2020-12-20 09:21:10</td>\n      <td>Thank you! It's nice to see my work appreciate...</td>\n      <td>2020-12-21 00:40:28</td>\n    </tr>\n    <tr>\n      <th>89770</th>\n      <td>gp:AOqpTOGZ3EYYLWtvkpOKvpHG7YSJOTY66dcNNg0Pobm...</td>\n      <td>Nicola Ferrante</td>\n      <td>https://play-lh.googleusercontent.com/-hYNHZIw...</td>\n      <td>Just an easy going app with a nice and simple ...</td>\n      <td>5</td>\n      <td>6</td>\n      <td>1.8.2</td>\n      <td>2020-12-09 09:49:02</td>\n      <td>Thank you! It's nice to see my work appreciate...</td>\n      <td>2020-12-09 11:25:38</td>\n    </tr>\n  </tbody>\n</table>\n<p>89771 rows × 10 columns</p>\n</div>"
          },
          "metadata": {}
        }
      ],
      "id": "cb242377-a8b8-4d1c-bb0f-29c00c1d575e"
    },
    {
      "cell_type": "code",
      "source": "ts = []\n#Helper function to record time spent by iteration, stored in ts\n\ndef replace():\n    start = time.time()\n    print(start)\n    for index, row in df2.iterrows():\n        acronyms(row['content'])\n        end = time.time()\n        ts.append(end - start)\n        ",
      "metadata": {
        "trusted": true
      },
      "execution_count": 7,
      "outputs": [],
      "id": "54527c81-90e8-4f4f-8a09-874a909cf888"
    },
    {
      "cell_type": "code",
      "source": "replace()\n#Plot time complexcity\n\nx = range(1, len(ts)+1)\nplt.scatter(x, ts)",
      "metadata": {
        "trusted": true
      },
      "execution_count": 8,
      "outputs": [
        {
          "name": "stdout",
          "text": "1681248108.384\n",
          "output_type": "stream"
        },
        {
          "execution_count": 8,
          "output_type": "execute_result",
          "data": {
            "text/plain": "<matplotlib.collections.PathCollection at 0x587e0a0>"
          },
          "metadata": {}
        },
        {
          "output_type": "display_data",
          "data": {
            "text/plain": "<Figure size 640x480 with 1 Axes>",
            "image/png": "[encoded data removed]"
          },
          "metadata": {}
        }
      ],
      "id": "4406fb8c-23cc-45bb-99a4-d292c1b290c6"
    },
    {
      "cell_type": "code",
      "source": "",
      "metadata": {},
      "execution_count": null,
      "outputs": [],
      "id": "e41ac8ab-c41e-44ea-94ff-44a8ea22537b"
    },
    {
      "cell_type": "code",
      "source": "",
      "metadata": {},
      "execution_count": null,
      "outputs": [],
      "id": "97efdd90-bede-4822-bdcf-c81c1dcb148d"
    }
  ]
}