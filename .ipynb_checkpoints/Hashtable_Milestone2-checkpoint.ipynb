{
  "metadata": {
    "kernelspec": {
      "name": "python",
      "display_name": "Python (Pyodide)",
      "language": "python"
    },
    "language_info": {
      "codemirror_mode": {
        "name": "python",
        "version": 3
      },
      "file_extension": ".py",
      "mimetype": "text/x-python",
      "name": "python",
      "nbconvert_exporter": "python",
      "pygments_lexer": "ipython3",
      "version": "3.8"
    }
  },
  "nbformat_minor": 5,
  "nbformat": 4,
  "cells": [
    {
      "cell_type": "code",
      "source": "import pandas as pd\nimport matplotlib\nimport numpy as np\nimport matplotlib.pyplot as plt\nimport timeit\nimport time\n\ndf = pd.read_csv(\"slang.csv\", sep=',')\ndf",
      "metadata": {
        "trusted": true
      },
      "execution_count": 1,
      "outputs": [
        {
          "execution_count": 1,
          "output_type": "execute_result",
          "data": {
            "text/plain": "      Unnamed: 0 acronym                           expansion\n0              0    2day                               today\n1              1    2m2h                 too much too handle\n2              2   2moro                            tomorrow\n3              3   2nite                             tonight\n4              4    4eae                   for ever and ever\n...          ...     ...                                 ...\n3352        3352      yw                     you are welcome\n3353        3353    ywca  young womens christian association\n3354        3354   ywimc             your wish is my command\n3355        3355  ywsyls          you win some you lose some\n3356        3356     ywu                           yo waz up\n\n[3357 rows x 3 columns]",
            "text/html": "<div>\n<style scoped>\n    .dataframe tbody tr th:only-of-type {\n        vertical-align: middle;\n    }\n\n    .dataframe tbody tr th {\n        vertical-align: top;\n    }\n\n    .dataframe thead th {\n        text-align: right;\n    }\n</style>\n<table border=\"1\" class=\"dataframe\">\n  <thead>\n    <tr style=\"text-align: right;\">\n      <th></th>\n      <th>Unnamed: 0</th>\n      <th>acronym</th>\n      <th>expansion</th>\n    </tr>\n  </thead>\n  <tbody>\n    <tr>\n      <th>0</th>\n      <td>0</td>\n      <td>2day</td>\n      <td>today</td>\n    </tr>\n    <tr>\n      <th>1</th>\n      <td>1</td>\n      <td>2m2h</td>\n      <td>too much too handle</td>\n    </tr>\n    <tr>\n      <th>2</th>\n      <td>2</td>\n      <td>2moro</td>\n      <td>tomorrow</td>\n    </tr>\n    <tr>\n      <th>3</th>\n      <td>3</td>\n      <td>2nite</td>\n      <td>tonight</td>\n    </tr>\n    <tr>\n      <th>4</th>\n      <td>4</td>\n      <td>4eae</td>\n      <td>for ever and ever</td>\n    </tr>\n    <tr>\n      <th>...</th>\n      <td>...</td>\n      <td>...</td>\n      <td>...</td>\n    </tr>\n    <tr>\n      <th>3352</th>\n      <td>3352</td>\n      <td>yw</td>\n      <td>you are welcome</td>\n    </tr>\n    <tr>\n      <th>3353</th>\n      <td>3353</td>\n      <td>ywca</td>\n      <td>young womens christian association</td>\n    </tr>\n    <tr>\n      <th>3354</th>\n      <td>3354</td>\n      <td>ywimc</td>\n      <td>your wish is my command</td>\n    </tr>\n    <tr>\n      <th>3355</th>\n      <td>3355</td>\n      <td>ywsyls</td>\n      <td>you win some you lose some</td>\n    </tr>\n    <tr>\n      <th>3356</th>\n      <td>3356</td>\n      <td>ywu</td>\n      <td>yo waz up</td>\n    </tr>\n  </tbody>\n</table>\n<p>3357 rows × 3 columns</p>\n</div>"
          },
          "metadata": {}
        }
      ],
      "id": "6e7c689b-223a-4376-8487-ff9b7317ca75"
    },
    {
      "cell_type": "code",
      "source": "#Hashtable that will be used inside the method. Creating it outside saves us from creating the hashTable each time the method is called\nhashTable = dict(zip(df[\"acronym\"], df[\"expansion\"])) ",
      "metadata": {
        "trusted": true
      },
      "execution_count": 2,
      "outputs": [],
      "id": "ff5f1cc0-daa1-41ae-861e-0ab92bc44f75"
    },
    {
      "cell_type": "code",
      "source": "def acronyms(sentence: str) -> str: #Takes an input and output of a string\n    wordList = sentence.split(\" \") #splits string into a list seperated by spaces\n    \n    for word in range(len(wordList)):\n        if wordList[word] in hashTable: #if the word is a key in the hashtable, convert it to the long english form\n            wordList[word] = hashTable[wordList[word]]\n            \n    output = ' '.join(wordList) #Groups the list of word back into a single string\n    return output",
      "metadata": {
        "trusted": true
      },
      "execution_count": 3,
      "outputs": [],
      "id": "74710438-f735-4c30-bf9d-cbef056cc344"
    },
    {
      "cell_type": "code",
      "source": "acronyms(\"Hello ywu\") #test case",
      "metadata": {
        "trusted": true
      },
      "execution_count": 4,
      "outputs": [
        {
          "execution_count": 4,
          "output_type": "execute_result",
          "data": {
            "text/plain": "'Hello yo waz up'"
          },
          "metadata": {}
        }
      ],
      "id": "3cdfb049-b5ea-40c7-a2d4-2c16a864e4c1"
    },
    {
      "cell_type": "code",
      "source": "df2 = pd.read_csv(\"age.of.civilizations.jakowski.csv\", sep=',')\ndf2 = df2.notnull()\n",
      "metadata": {
        "trusted": true
      },
      "execution_count": 5,
      "outputs": [],
      "id": "5be6f9cb-270e-4e2f-9894-354bae293e4c"
    },
    {
      "cell_type": "code",
      "source": "df2.head()",
      "metadata": {
        "trusted": true
      },
      "execution_count": 6,
      "outputs": [
        {
          "execution_count": 6,
          "output_type": "execute_result",
          "data": {
            "text/plain": "   reviewId  userName  userImage  content  score  thumbsUpCount  \\\n0      True      True       True     True   True           True   \n1      True      True       True     True   True           True   \n2      True      True       True     True   True           True   \n3      True      True       True     True   True           True   \n4      True      True       True     True   True           True   \n\n   reviewCreatedVersion    at  replyContent  repliedAt  \n0                  True  True         False      False  \n1                  True  True         False      False  \n2                 False  True         False      False  \n3                  True  True         False      False  \n4                  True  True         False      False  ",
            "text/html": "<div>\n<style scoped>\n    .dataframe tbody tr th:only-of-type {\n        vertical-align: middle;\n    }\n\n    .dataframe tbody tr th {\n        vertical-align: top;\n    }\n\n    .dataframe thead th {\n        text-align: right;\n    }\n</style>\n<table border=\"1\" class=\"dataframe\">\n  <thead>\n    <tr style=\"text-align: right;\">\n      <th></th>\n      <th>reviewId</th>\n      <th>userName</th>\n      <th>userImage</th>\n      <th>content</th>\n      <th>score</th>\n      <th>thumbsUpCount</th>\n      <th>reviewCreatedVersion</th>\n      <th>at</th>\n      <th>replyContent</th>\n      <th>repliedAt</th>\n    </tr>\n  </thead>\n  <tbody>\n    <tr>\n      <th>0</th>\n      <td>True</td>\n      <td>True</td>\n      <td>True</td>\n      <td>True</td>\n      <td>True</td>\n      <td>True</td>\n      <td>True</td>\n      <td>True</td>\n      <td>False</td>\n      <td>False</td>\n    </tr>\n    <tr>\n      <th>1</th>\n      <td>True</td>\n      <td>True</td>\n      <td>True</td>\n      <td>True</td>\n      <td>True</td>\n      <td>True</td>\n      <td>True</td>\n      <td>True</td>\n      <td>False</td>\n      <td>False</td>\n    </tr>\n    <tr>\n      <th>2</th>\n      <td>True</td>\n      <td>True</td>\n      <td>True</td>\n      <td>True</td>\n      <td>True</td>\n      <td>True</td>\n      <td>False</td>\n      <td>True</td>\n      <td>False</td>\n      <td>False</td>\n    </tr>\n    <tr>\n      <th>3</th>\n      <td>True</td>\n      <td>True</td>\n      <td>True</td>\n      <td>True</td>\n      <td>True</td>\n      <td>True</td>\n      <td>True</td>\n      <td>True</td>\n      <td>False</td>\n      <td>False</td>\n    </tr>\n    <tr>\n      <th>4</th>\n      <td>True</td>\n      <td>True</td>\n      <td>True</td>\n      <td>True</td>\n      <td>True</td>\n      <td>True</td>\n      <td>True</td>\n      <td>True</td>\n      <td>False</td>\n      <td>False</td>\n    </tr>\n  </tbody>\n</table>\n</div>"
          },
          "metadata": {}
        }
      ],
      "id": "2bf72a87-a988-4b2e-a458-78b45476a959"
    },
    {
      "cell_type": "code",
      "source": "ts = []\ndef replace():\n    start = time.time()\n    print(start)\n    for index, row in df2.iterrows():\n        acronyms(row['content'].astype(str))\n        end = time.time()\n        ts.append(end - start)\n        ",
      "metadata": {
        "trusted": true
      },
      "execution_count": 33,
      "outputs": [],
      "id": "54527c81-90e8-4f4f-8a09-874a909cf888"
    },
    {
      "cell_type": "code",
      "source": "replace()\nx = range(1, len(ts)+1)\nplt.scatter(x, ts)",
      "metadata": {
        "trusted": true
      },
      "execution_count": 34,
      "outputs": [
        {
          "name": "stdout",
          "text": "1678088506.365\n",
          "output_type": "stream"
        },
        {
          "execution_count": 34,
          "output_type": "execute_result",
          "data": {
            "text/plain": "<matplotlib.collections.PathCollection at 0x5ddc930>"
          },
          "metadata": {}
        },
        {
          "output_type": "display_data",
          "data": {
            "text/plain": "<Figure size 640x480 with 1 Axes>",
            "image/png": "[encoded data removed]"
          },
          "metadata": {}
        }
      ],
      "id": "4406fb8c-23cc-45bb-99a4-d292c1b290c6"
    },
    {
      "cell_type": "code",
      "source": "",
      "metadata": {},
      "execution_count": null,
      "outputs": [],
      "id": "a5492477-83c6-4749-ab69-0a8a40587d30"
    },
    {
      "cell_type": "code",
      "source": "",
      "metadata": {},
      "execution_count": null,
      "outputs": [],
      "id": "fef6d974-423e-4e0e-8412-44dd73396b18"
    },
    {
      "cell_type": "code",
      "source": "",
      "metadata": {},
      "execution_count": null,
      "outputs": [],
      "id": "5e0815c4-39ed-4c95-95a7-72e37d5381b2"
    }
  ]
}